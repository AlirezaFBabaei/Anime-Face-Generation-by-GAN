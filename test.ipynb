{
 "cells": [
  {
   "cell_type": "code",
   "execution_count": 1,
   "metadata": {},
   "outputs": [],
   "source": [
    "import numpy as np\n",
    "import cv2\n",
    "from tensorflow.keras.models import load_model\n",
    "from matplotlib import pyplot"
   ]
  },
  {
   "cell_type": "code",
   "execution_count": 2,
   "metadata": {},
   "outputs": [],
   "source": [
    "def save_plot(examples, n):\n",
    "    n = int(n)\n",
    "    examples = (examples + 1) / 2.0\n",
    "    examples = examples * 255\n",
    "    file_name = f\"fake_sample.png\"\n",
    "\n",
    "    cat_image = None\n",
    "    for i in range(n):\n",
    "        start_idx = i*n\n",
    "        end_idx = (i+1)*n\n",
    "\n",
    "        image_list = examples[start_idx:end_idx]\n",
    "        if i == 0:\n",
    "            cat_image = np.concatenate(image_list, axis=1)\n",
    "        else:\n",
    "            tmp = np.concatenate(image_list, axis=1)\n",
    "            cat_image = np.concatenate([cat_image, tmp], axis=0)\n",
    "\n",
    "    cv2.imwrite(file_name, cat_image)"
   ]
  },
  {
   "cell_type": "code",
   "execution_count": 4,
   "metadata": {},
   "outputs": [
    {
     "name": "stdout",
     "output_type": "stream",
     "text": [
      "WARNING:tensorflow:No training configuration found in the save file, so the model was *not* compiled. Compile it manually.\n",
      "4/4 [==============================] - 0s 16ms/step\n"
     ]
    }
   ],
   "source": [
    "model = load_model(\"saved_model/g_model.h5\")\n",
    "\n",
    "n_samples = 100\n",
    "latent_dim = 64\n",
    "latent_points = np.random.normal(size=(n_samples, latent_dim))\n",
    "examples = model.predict(latent_points)\n",
    "save_plot(examples, np.sqrt(n_samples))"
   ]
  },
  {
   "cell_type": "code",
   "execution_count": null,
   "metadata": {},
   "outputs": [],
   "source": []
  }
 ],
 "metadata": {
  "kernelspec": {
   "display_name": "tf",
   "language": "python",
   "name": "python3"
  },
  "language_info": {
   "codemirror_mode": {
    "name": "ipython",
    "version": 3
   },
   "file_extension": ".py",
   "mimetype": "text/x-python",
   "name": "python",
   "nbconvert_exporter": "python",
   "pygments_lexer": "ipython3",
   "version": "3.10.11"
  }
 },
 "nbformat": 4,
 "nbformat_minor": 2
}
